{
 "cells": [
  {
   "cell_type": "code",
   "execution_count": 969,
   "metadata": {},
   "outputs": [],
   "source": [
    "import numpy as np\n",
    "\n",
    "power = 6\n",
    "population = 6  # even\n",
    "generation = 15  # total number of evaluations\n",
    "mutation_ratio = 0.1  # possibility for each 1/0 in mutation, for each geno in mutation2\n",
    "'''modifiable above'''\n",
    "min = 0\n",
    "max = 2**power - 1\n",
    "geno_len = len(bin(max)[2:])  # length of binary representation\n",
    "def objFunc(x):\n",
    "    return x**2"
   ]
  },
  {
   "cell_type": "code",
   "execution_count": 970,
   "metadata": {},
   "outputs": [
    {
     "data": {
      "text/plain": [
       "array([[16, 47, 13, 30, 36,  2],\n",
       "       [ 0,  0,  0,  0,  0,  0],\n",
       "       [ 0,  0,  0,  0,  0,  0],\n",
       "       [ 0,  0,  0,  0,  0,  0],\n",
       "       [ 0,  0,  0,  0,  0,  0],\n",
       "       [ 0,  0,  0,  0,  0,  0],\n",
       "       [ 0,  0,  0,  0,  0,  0],\n",
       "       [ 0,  0,  0,  0,  0,  0],\n",
       "       [ 0,  0,  0,  0,  0,  0],\n",
       "       [ 0,  0,  0,  0,  0,  0],\n",
       "       [ 0,  0,  0,  0,  0,  0],\n",
       "       [ 0,  0,  0,  0,  0,  0],\n",
       "       [ 0,  0,  0,  0,  0,  0],\n",
       "       [ 0,  0,  0,  0,  0,  0],\n",
       "       [ 0,  0,  0,  0,  0,  0]])"
      ]
     },
     "execution_count": 970,
     "metadata": {},
     "output_type": "execute_result"
    }
   ],
   "source": [
    "def encoding_vec(array):\n",
    "    return np.vectorize(np.binary_repr)(array, width=geno_len)\n",
    "\n",
    "def decoding_vec(array):\n",
    "    return np.vectorize(int)(array, 2)\n",
    "\n",
    "# Generate initial population at random in int\n",
    "geno_list = np.random.randint(min, max, size=(generation, population))\n",
    "geno_list[1:, :] = 0\n",
    "\n",
    "geno_list"
   ]
  },
  {
   "cell_type": "code",
   "execution_count": 971,
   "metadata": {},
   "outputs": [
    {
     "data": {
      "text/plain": [
       "array([0.05295821, 0.45697145, 0.0349607 , 0.18618122, 0.26810095,\n",
       "       0.00082747])"
      ]
     },
     "execution_count": 971,
     "metadata": {},
     "output_type": "execute_result"
    }
   ],
   "source": [
    "def roulette_wheel(array):\n",
    "    return objFunc(array)/sum(objFunc(array))\n",
    "\n",
    "roulette_wheel(geno_list[0, :])"
   ]
  },
  {
   "cell_type": "code",
   "execution_count": 972,
   "metadata": {},
   "outputs": [
    {
     "data": {
      "text/plain": [
       "array(['100100', '101111', '101111', '101111', '001101', '101111'],\n",
       "      dtype='<U6')"
      ]
     },
     "execution_count": 972,
     "metadata": {},
     "output_type": "execute_result"
    }
   ],
   "source": [
    "def get_parents(array):\n",
    "    return np.random.choice(encoding_vec(array), size=population, p=roulette_wheel(array))\n",
    "\n",
    "parents = get_parents(geno_list[0, :])\n",
    "parents"
   ]
  },
  {
   "cell_type": "code",
   "execution_count": 973,
   "metadata": {},
   "outputs": [
    {
     "data": {
      "text/plain": [
       "['100111', '101100', '101111', '101111', '001111', '101101']"
      ]
     },
     "execution_count": 973,
     "metadata": {},
     "output_type": "execute_result"
    }
   ],
   "source": [
    "def crossover(array):\n",
    "    descendants = []\n",
    "    for i in range(0, population, 2):\n",
    "        rad = np.random.randint(1, geno_len-1)\n",
    "        descendants.append(array[i][:rad] + array[i+1][rad:])\n",
    "        descendants.append(array[i+1][:rad] + array[i][rad:])\n",
    "    return descendants\n",
    "\n",
    "descendants = crossover(parents)\n",
    "descendants"
   ]
  },
  {
   "cell_type": "code",
   "execution_count": 974,
   "metadata": {},
   "outputs": [
    {
     "data": {
      "text/plain": [
       "['100111', '101100', '011011', '001111', '001111', '101110']"
      ]
     },
     "execution_count": 974,
     "metadata": {},
     "output_type": "execute_result"
    }
   ],
   "source": [
    "def mutation(array, ratio):\n",
    "    aftermutation = []\n",
    "    for geno in array:\n",
    "        split = [char if np.random.rand() > ratio else str(1 - int(char))\n",
    "                 for char in geno]\n",
    "        aftermutation.append(\"\".join(split))\n",
    "    return aftermutation\n",
    "\n",
    "descendants_mutation = mutation(descendants, mutation_ratio)\n",
    "descendants_mutation"
   ]
  },
  {
   "cell_type": "code",
   "execution_count": 975,
   "metadata": {},
   "outputs": [
    {
     "data": {
      "text/plain": [
       "['100111', '101100', '101111', '101111', '001111', '101101']"
      ]
     },
     "execution_count": 975,
     "metadata": {},
     "output_type": "execute_result"
    }
   ],
   "source": [
    "def mutation2(array, ratio):\n",
    "    aftermutation = []\n",
    "    for geno in array:\n",
    "        if np.random.rand() < ratio:\n",
    "            rad = np.random.randint(geno_len)\n",
    "            aftermutation.append(\n",
    "                geno[:rad] + str(1 - int(geno[rad])) + geno[rad+1:])\n",
    "        else:\n",
    "            aftermutation.append(geno)\n",
    "    return aftermutation\n",
    "\n",
    "\n",
    "descendants_mutation = mutation2(descendants, mutation_ratio)\n",
    "descendants_mutation\n"
   ]
  },
  {
   "cell_type": "code",
   "execution_count": 976,
   "metadata": {},
   "outputs": [
    {
     "name": "stdout",
     "output_type": "stream",
     "text": [
      "[[16 47 13 30 36  2]\n",
      " [45 55 16 44 62 11]\n",
      " [44 37 45 55 62 55]\n",
      " [54 59 38 61 63 39]\n",
      " [54 31 27 55 63 61]\n",
      " [39 61 55 44 62 55]\n",
      " [62 62 63 62 60 45]\n",
      " [60 61 63 46 63 28]\n",
      " [29 60 63 59 61 46]\n",
      " [61 61 61 27 59 63]\n",
      " [58 47 47 57 63 45]\n",
      " [48 57 15 46 59 30]\n",
      " [14 24 59 63 62 25]\n",
      " [59 62 62 59 41 30]\n",
      " [46 59 50 63 62 59]]\n"
     ]
    }
   ],
   "source": [
    "# training\n",
    "for i in range(generation-1):\n",
    "    parents = get_parents(geno_list[i, :])\n",
    "    descendants = crossover(parents)\n",
    "    descendants_mutation = mutation(descendants, mutation_ratio)\n",
    "    # descendants_mutation = mutation2(descendants, mutation_ratio)\n",
    "    geno_list[i+1, :] = decoding_vec(descendants_mutation)\n",
    "\n",
    "print(geno_list)"
   ]
  }
 ],
 "metadata": {
  "interpreter": {
   "hash": "d2d5a94ea54ab66b93b3371346c91ee8c819cc5f0912d36cdbce5f922acfab8c"
  },
  "kernelspec": {
   "display_name": "Python 3.8.2 32-bit",
   "language": "python",
   "name": "python3"
  },
  "language_info": {
   "codemirror_mode": {
    "name": "ipython",
    "version": 3
   },
   "file_extension": ".py",
   "mimetype": "text/x-python",
   "name": "python",
   "nbconvert_exporter": "python",
   "pygments_lexer": "ipython3",
   "version": "3.8.2"
  },
  "orig_nbformat": 4
 },
 "nbformat": 4,
 "nbformat_minor": 2
}
